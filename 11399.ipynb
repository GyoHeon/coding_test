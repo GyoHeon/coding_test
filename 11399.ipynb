{
 "cells": [
  {
   "cell_type": "code",
   "execution_count": 20,
   "metadata": {},
   "outputs": [],
   "source": [
    "n = int(input())\r\n",
    "li = list(map(int, input().split()))\r\n",
    "\r\n",
    "li.sort()\r\n",
    "\r\n",
    "s = 0\r\n",
    "k = 0\r\n",
    "for i in li:\r\n",
    "    s += i\r\n",
    "    k += s\r\n",
    "\r\n",
    "print(k)"
   ]
  }
 ],
 "metadata": {
  "interpreter": {
   "hash": "014b59808cf445a1f31851fb1408afebf516839740d067f1702e83d3b9167d10"
  },
  "kernelspec": {
   "display_name": "Python 3.8.5 64-bit ('base': conda)",
   "name": "python3"
  },
  "language_info": {
   "codemirror_mode": {
    "name": "ipython",
    "version": 3
   },
   "file_extension": ".py",
   "mimetype": "text/x-python",
   "name": "python",
   "nbconvert_exporter": "python",
   "pygments_lexer": "ipython3",
   "version": "3.8.5"
  },
  "orig_nbformat": 4
 },
 "nbformat": 4,
 "nbformat_minor": 2
}