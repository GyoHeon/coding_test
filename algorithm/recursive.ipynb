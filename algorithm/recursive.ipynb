{
 "cells": [
  {
   "cell_type": "code",
   "execution_count": null,
   "source": [
    "def factorial(n):\n",
    "    if n > 1:\n",
    "        return n*factorial(n-1)\n",
    "    else:\n",
    "        return 1"
   ],
   "outputs": [],
   "metadata": {}
  }
 ],
 "metadata": {
  "orig_nbformat": 4,
  "language_info": {
   "name": "python"
  }
 },
 "nbformat": 4,
 "nbformat_minor": 2
}