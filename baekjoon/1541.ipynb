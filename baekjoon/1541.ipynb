{
 "cells": [
  {
   "cell_type": "markdown",
   "source": [
    "\\- 와 + 밖에 없으므로 모든 +를 먼저 시행한 뒤 -를 진행하면 항상 가장 작은 값이 나옴.  \n",
    "따라서 -를 기준으로 인풋을 받고 (그러면 하나의 원소에는 +로 연결된 숫자만 들어간다.)  \n",
    "포문을 돌려 모든 원소의 +를 시행한뒤 모든 값을 빼주면 끝."
   ],
   "metadata": {}
  },
  {
   "cell_type": "code",
   "execution_count": 74,
   "source": [
    "a = input().split('-')\n",
    "\n",
    "for i in range(len(a)):\n",
    "    if a[i].isdigit() == False:\n",
    "        sum2 = 0\n",
    "        for j in a[i].split('+'):\n",
    "            sum2 += int(j)\n",
    "        a[i] = sum2\n",
    "sum1 = int(a[0])\n",
    "for i in a[1:]:\n",
    "    sum1 -= int(i)\n",
    "print(sum1)"
   ],
   "outputs": [],
   "metadata": {}
  },
  {
   "cell_type": "code",
   "execution_count": null,
   "source": [],
   "outputs": [],
   "metadata": {}
  }
 ],
 "metadata": {
  "orig_nbformat": 4,
  "language_info": {
   "name": "python",
   "version": "3.8.8",
   "mimetype": "text/x-python",
   "codemirror_mode": {
    "name": "ipython",
    "version": 3
   },
   "pygments_lexer": "ipython3",
   "nbconvert_exporter": "python",
   "file_extension": ".py"
  },
  "kernelspec": {
   "name": "python3",
   "display_name": "Python 3.8.8 64-bit ('base': conda)"
  },
  "interpreter": {
   "hash": "2b2ef0ced6158af2e394324a057accd68681802aee33865d5dd32934d26225d9"
  }
 },
 "nbformat": 4,
 "nbformat_minor": 2
}