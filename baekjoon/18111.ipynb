{
 "cells": [
  {
   "cell_type": "code",
   "execution_count": 31,
   "source": [
    "import sys\n",
    "#input = sys.stdin.readline\n",
    "from collections import defaultdict\n",
    "\n",
    "n, m, b = map(int, input().split())\n",
    "array = defaultdict(int)\n",
    "for i in range(n):\n",
    "    for j in list(map(int,input().split())):\n",
    "        array[j] += 1"
   ],
   "outputs": [],
   "metadata": {}
  },
  {
   "cell_type": "code",
   "execution_count": 25,
   "source": [
    "mi = min(array)\n",
    "ma = max(array)\n",
    "time = 500*500*512\n",
    "for i in range(mi, ma+1):\n",
    "    s, block = 0, b\n",
    "    for j in array:\n",
    "        if j < i:\n",
    "            s += i-j\n",
    "            block -= i-j\n",
    "        else:\n",
    "            s += (j-i)*2\n",
    "            block += j-i\n",
    "    if block >= 0:\n",
    "        if time >= s:\n",
    "            time = s\n",
    "            index = i\n",
    "\n",
    "print(time, index)"
   ],
   "outputs": [
    {
     "output_type": "stream",
     "name": "stdout",
     "text": [
      "22 63\n"
     ]
    }
   ],
   "metadata": {}
  },
  {
   "cell_type": "code",
   "execution_count": null,
   "source": [
    "mi = min(array)\n",
    "ma = max(array)\n",
    "time = 500*500*512\n",
    "for i in range(mi, ma+1):\n",
    "    s, block = 0, b\n",
    "    for j in array:\n",
    "        if j < i:\n",
    "            s += i-j\n",
    "            block -= i-j\n",
    "        else:\n",
    "            s += (j-i)*2\n",
    "            block += j-i\n",
    "    if block >= 0:\n",
    "        if time >= s:\n",
    "            time = s\n",
    "            index = i\n",
    "\n",
    "print(time, index)"
   ],
   "outputs": [
    {
     "output_type": "stream",
     "name": "stdout",
     "text": [
      "22 63\n"
     ]
    }
   ],
   "metadata": {}
  },
  {
   "cell_type": "code",
   "execution_count": 32,
   "source": [
    "li1 = [1,1,1]\n",
    "li2 = [(i-2) for i in li1]\n",
    "li2"
   ],
   "outputs": [
    {
     "output_type": "execute_result",
     "data": {
      "text/plain": [
       "[-1, -1, -1]"
      ]
     },
     "metadata": {},
     "execution_count": 32
    }
   ],
   "metadata": {}
  },
  {
   "cell_type": "code",
   "execution_count": 15,
   "source": [
    "from collections import defaultdict\n",
    "dic=defaultdict(int)\n",
    "for i in range(3):\n",
    "    for j in list(map(int, input().split())):\n",
    "        dic[j] += 1"
   ],
   "outputs": [],
   "metadata": {}
  },
  {
   "cell_type": "code",
   "execution_count": 20,
   "source": [
    "dic"
   ],
   "outputs": [
    {
     "output_type": "execute_result",
     "data": {
      "text/plain": [
       "defaultdict(int, {3: 1, 5: 2, 7: 2, 1: 2, 4: 1, 9: 1, 0: 0, 2: 0})"
      ]
     },
     "metadata": {},
     "execution_count": 20
    }
   ],
   "metadata": {}
  },
  {
   "cell_type": "code",
   "execution_count": null,
   "source": [],
   "outputs": [],
   "metadata": {}
  }
 ],
 "metadata": {
  "orig_nbformat": 4,
  "language_info": {
   "name": "python",
   "version": "3.8.8",
   "mimetype": "text/x-python",
   "codemirror_mode": {
    "name": "ipython",
    "version": 3
   },
   "pygments_lexer": "ipython3",
   "nbconvert_exporter": "python",
   "file_extension": ".py"
  },
  "kernelspec": {
   "name": "python3",
   "display_name": "Python 3.8.8 64-bit ('base': conda)"
  },
  "interpreter": {
   "hash": "2b2ef0ced6158af2e394324a057accd68681802aee33865d5dd32934d26225d9"
  }
 },
 "nbformat": 4,
 "nbformat_minor": 2
}