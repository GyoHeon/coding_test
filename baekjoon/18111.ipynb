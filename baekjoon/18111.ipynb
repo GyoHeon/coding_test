{
 "cells": [
  {
   "cell_type": "code",
   "execution_count": 31,
   "source": [
    "import sys\n",
    "input = sys.stdin.readline\n",
    "from collections import defaultdict\n",
    "\n",
    "n, m, b = map(int, input().split())\n",
    "array = defaultdict(int)\n",
    "for i in range(n):\n",
    "    for j in list(map(int,input().split())):\n",
    "        array[j] += 1\n",
    "\n",
    "mi = min(array)\n",
    "ma = max(array)\n",
    "time = 500*500*512\n",
    "for i in range(mi, ma+1):\n",
    "    s, block = 0, b\n",
    "    for j in array:\n",
    "        if j < i:\n",
    "            s += (i-j)*array[j]\n",
    "            block -= (i-j)*array[j]\n",
    "        else:\n",
    "            s += (j-i)*2*array[j]\n",
    "            block += (j-i)*array[j]\n",
    "    if block >= 0:\n",
    "        if time >= s:\n",
    "            time = s\n",
    "            index = i\n",
    "\n",
    "print(time, index)"
   ],
   "outputs": [],
   "metadata": {}
  }
 ],
 "metadata": {
  "orig_nbformat": 4,
  "language_info": {
   "name": "python",
   "version": "3.8.8",
   "mimetype": "text/x-python",
   "codemirror_mode": {
    "name": "ipython",
    "version": 3
   },
   "pygments_lexer": "ipython3",
   "nbconvert_exporter": "python",
   "file_extension": ".py"
  },
  "kernelspec": {
   "name": "python3",
   "display_name": "Python 3.8.8 64-bit ('base': conda)"
  },
  "interpreter": {
   "hash": "2b2ef0ced6158af2e394324a057accd68681802aee33865d5dd32934d26225d9"
  }
 },
 "nbformat": 4,
 "nbformat_minor": 2
}