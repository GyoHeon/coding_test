{
 "cells": [
  {
   "cell_type": "code",
   "execution_count": 6,
   "source": [
    "import sys\n",
    "\n",
    "n = int(input())\n",
    "li = []\n",
    "count = 1\n",
    "state = ''\n",
    "for i in range(1, n+1):\n",
    "    stack = int(sys.stdin.readline().rstrip())\n",
    "    while stack >= count:\n",
    "        li.append(count)\n",
    "        count += 1\n",
    "        state += '+\\n'\n",
    "    if stack == li[-1]:\n",
    "        state += '-\\n'\n",
    "        li.pop()\n",
    "    else:\n",
    "        state = 'NO'\n",
    "        break\n",
    "\n",
    "print(state)"
   ],
   "outputs": [
    {
     "output_type": "stream",
     "name": "stdout",
     "text": [
      "+\n",
      "+\n",
      "+\n",
      "+\n",
      "-\n",
      "-\n",
      "+\n",
      "+\n",
      "-\n",
      "+\n",
      "+\n",
      "-\n",
      "-\n",
      "-\n",
      "-\n",
      "-\n",
      "\n"
     ]
    }
   ],
   "metadata": {}
  }
 ],
 "metadata": {
  "orig_nbformat": 4,
  "language_info": {
   "name": "python",
   "version": "3.8.8",
   "mimetype": "text/x-python",
   "codemirror_mode": {
    "name": "ipython",
    "version": 3
   },
   "pygments_lexer": "ipython3",
   "nbconvert_exporter": "python",
   "file_extension": ".py"
  },
  "kernelspec": {
   "name": "python3",
   "display_name": "Python 3.8.8 64-bit ('base': conda)"
  },
  "interpreter": {
   "hash": "2b2ef0ced6158af2e394324a057accd68681802aee33865d5dd32934d26225d9"
  }
 },
 "nbformat": 4,
 "nbformat_minor": 2
}