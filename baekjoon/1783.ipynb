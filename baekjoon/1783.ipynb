{
 "cells": [
  {
   "cell_type": "code",
   "execution_count": 19,
   "source": [
    "n, m = map(int, input().split())\n",
    "# min 써서 깔끔하게 표현해보기\n",
    "if n == 1 or m == 1:\n",
    "    print(1)\n",
    "elif n == 2:\n",
    "    if m <= 2:\n",
    "        print(1)\n",
    "    elif m <= 4:\n",
    "        print(2)\n",
    "    elif m <= 6:\n",
    "        print(3)\n",
    "    else:\n",
    "        print(4)\n",
    "else:\n",
    "    if m == 2:\n",
    "        print(2)\n",
    "    elif m == 3:\n",
    "        print(3)\n",
    "    elif m <= 6:\n",
    "        print(4)\n",
    "    else:\n",
    "        print(m-2)"
   ],
   "outputs": [
    {
     "output_type": "stream",
     "name": "stdout",
     "text": [
      "48\n"
     ]
    }
   ],
   "metadata": {}
  },
  {
   "cell_type": "code",
   "execution_count": null,
   "source": [
    "n, m = map(int, input().split())\n",
    "\n",
    "if n == 1 or m == 1:\n",
    "    print(1)\n",
    "elif n == 2:\n",
    "    print(min(4, (m+1)//2))\n",
    "else:\n",
    "    if m == 2:\n",
    "        print(2)\n",
    "    elif m == 3:\n",
    "        print(3)\n",
    "    elif m == 4,5,6:\n",
    "        print(4)\n",
    "    else:\n",
    "        print(m-2)"
   ],
   "outputs": [],
   "metadata": {}
  }
 ],
 "metadata": {
  "orig_nbformat": 4,
  "language_info": {
   "name": "python",
   "version": "3.8.8",
   "mimetype": "text/x-python",
   "codemirror_mode": {
    "name": "ipython",
    "version": 3
   },
   "pygments_lexer": "ipython3",
   "nbconvert_exporter": "python",
   "file_extension": ".py"
  },
  "kernelspec": {
   "name": "python3",
   "display_name": "Python 3.8.8 64-bit ('base': conda)"
  },
  "interpreter": {
   "hash": "2b2ef0ced6158af2e394324a057accd68681802aee33865d5dd32934d26225d9"
  }
 },
 "nbformat": 4,
 "nbformat_minor": 2
}