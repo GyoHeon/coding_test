{
 "cells": [
  {
   "cell_type": "code",
   "execution_count": 21,
   "id": "8b8859bd",
   "metadata": {},
   "outputs": [
    {
     "name": "stdout",
     "output_type": "stream",
     "text": [
      "3\n",
      "100\n",
      "10\n",
      "1\n",
      "4 0 0 0 \n",
      "0 1 0 0 \n",
      "0 0 0 1 \n"
     ]
    }
   ],
   "source": [
    "n = int(input())\n",
    "\n",
    "coin = [25, 10, 5, 1]\n",
    "al = []\n",
    "for i in range(n):\n",
    "    money = int(input())\n",
    "    sl = ''\n",
    "    for j in coin:\n",
    "        sl += str(money // j) + ' '\n",
    "        money = money%j\n",
    "    al.append(sl)\n",
    "    \n",
    "for i in al:\n",
    "    print(i)"
   ]
  }
 ],
 "metadata": {
  "kernelspec": {
   "display_name": "Python 3",
   "language": "python",
   "name": "python3"
  },
  "language_info": {
   "codemirror_mode": {
    "name": "ipython",
    "version": 3
   },
   "file_extension": ".py",
   "mimetype": "text/x-python",
   "name": "python",
   "nbconvert_exporter": "python",
   "pygments_lexer": "ipython3",
   "version": "3.8.8"
  }
 },
 "nbformat": 4,
 "nbformat_minor": 5
}
