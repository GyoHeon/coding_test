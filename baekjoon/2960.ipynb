{
 "cells": [
  {
   "cell_type": "code",
   "execution_count": 127,
   "source": [
    "n, k = map(int, input().split())\n",
    "array = [i+2 for i in range(n-1)]\n",
    "li = array.copy()\n",
    "count = 0\n",
    "for i in li:\n",
    "    for j in range(1, li[-1]//i+1):\n",
    "        try:\n",
    "            array.remove(i*j)\n",
    "            count += 1\n",
    "            if count == k:\n",
    "                print(i*j)\n",
    "                break\n",
    "        except:\n",
    "            continue\n",
    "    else: continue\n",
    "    break"
   ],
   "outputs": [],
   "metadata": {}
  }
 ],
 "metadata": {
  "orig_nbformat": 4,
  "language_info": {
   "name": "python",
   "version": "3.8.8",
   "mimetype": "text/x-python",
   "codemirror_mode": {
    "name": "ipython",
    "version": 3
   },
   "pygments_lexer": "ipython3",
   "nbconvert_exporter": "python",
   "file_extension": ".py"
  },
  "kernelspec": {
   "name": "python3",
   "display_name": "Python 3.8.8 64-bit ('base': conda)"
  },
  "interpreter": {
   "hash": "2b2ef0ced6158af2e394324a057accd68681802aee33865d5dd32934d26225d9"
  }
 },
 "nbformat": 4,
 "nbformat_minor": 2
}