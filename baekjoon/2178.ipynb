{
 "cells": [
  {
   "cell_type": "code",
   "execution_count": 58,
   "metadata": {},
   "outputs": [],
   "source": [
    "from collections import deque\n",
    "\n",
    "# need_visit queue\n",
    "def bfs(graph, start_node):\n",
    "    visited, need_visit = deque(), deque()\n",
    "    \n",
    "    need_visit.append(start_node)\n",
    "\n",
    "    while need_visit:\n",
    "        node = need_visit.popleft()\n",
    "        if node not in visited:\n",
    "            visited.append(node)\n",
    "            need_visit.extend(graph[node])\n",
    "\n",
    "    return visited\n",
    "\n",
    "n, m = map(int, input().split())\n",
    "\n",
    "maze = []\n",
    "for i in range(n):\n",
    "    array = input()\n",
    "    maze.extend(array)\n",
    "\n",
    "for i in range(n*m):\n",
    "    if maze[i] == '0':\n",
    "        maze[i] = []\n",
    "    else:maze[i]=[i]\n",
    "\n",
    "for i in range(n*m):\n",
    "    if maze[i]!=[]:\n",
    "        try:\n",
    "            if maze[i+1] != []:\n",
    "               maze[i].append(i+1)\n",
    "            if maze[i+n] != []:\n",
    "                maze[i].append(i+n)\n",
    "        except:\n",
    "            pass\n",
    "\n",
    "print(bfs(maze, 0).index(n*m-1)+1)"
   ]
  },
  {
   "cell_type": "code",
   "execution_count": 73,
   "metadata": {},
   "outputs": [
    {
     "name": "stdout",
     "output_type": "stream",
     "text": [
      "15\n"
     ]
    }
   ],
   "source": []
  }
 ],
 "metadata": {
  "interpreter": {
   "hash": "b39c6c809ec76583e575b4ba1085f2dcb86a7029d5c8cf5479e11d3625af96c6"
  },
  "kernelspec": {
   "display_name": "Python 3.8.8 64-bit ('base': conda)",
   "name": "python3"
  },
  "language_info": {
   "codemirror_mode": {
    "name": "ipython",
    "version": 3
   },
   "file_extension": ".py",
   "mimetype": "text/x-python",
   "name": "python",
   "nbconvert_exporter": "python",
   "pygments_lexer": "ipython3",
   "version": "3.8.8"
  },
  "orig_nbformat": 4
 },
 "nbformat": 4,
 "nbformat_minor": 2
}
