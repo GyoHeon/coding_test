{
 "cells": [
  {
   "cell_type": "code",
   "execution_count": 2,
   "source": [
    "from collections import defaultdict\n",
    "import sys\n",
    "input = sys.stdin.readline\n",
    "\n",
    "n = int(input())\n",
    "dic = defaultdict(int)\n",
    "for _ in range(n):\n",
    "    num = int(input())\n",
    "    dic[num] += 1\n",
    "\n",
    "new_dic = sorted(dic.items())\n",
    "for i, j in new_dic:\n",
    "    for _ in range(j):\n",
    "        print(i)"
   ],
   "outputs": [],
   "metadata": {}
  }
 ],
 "metadata": {
  "orig_nbformat": 4,
  "language_info": {
   "name": "python",
   "version": "3.8.8",
   "mimetype": "text/x-python",
   "codemirror_mode": {
    "name": "ipython",
    "version": 3
   },
   "pygments_lexer": "ipython3",
   "nbconvert_exporter": "python",
   "file_extension": ".py"
  },
  "kernelspec": {
   "name": "python3",
   "display_name": "Python 3.8.8 64-bit ('base': conda)"
  },
  "interpreter": {
   "hash": "2b2ef0ced6158af2e394324a057accd68681802aee33865d5dd32934d26225d9"
  }
 },
 "nbformat": 4,
 "nbformat_minor": 2
}