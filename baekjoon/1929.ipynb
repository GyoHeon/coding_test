{
 "cells": [
  {
   "cell_type": "code",
   "execution_count": 109,
   "source": [
    "a, b=map(int, input(). split())\n",
    "array = [0, 0]+[1 for _ in range(b-1)]\n",
    "\n",
    "for i in range(2, int(b**0.5+1)):\n",
    "    if array[i] == 1:\n",
    "        for j in range(i*2, b+1, i):\n",
    "            array[j] = 0\n",
    "\n",
    "li = [0 for _ in range(a)] + [i for i in range(a, b+1)]\n",
    "real = [i*j for i,j in zip(array, li)]\n",
    "for i in real:\n",
    "    if i != False:\n",
    "        print(i)"
   ],
   "outputs": [
    {
     "output_type": "stream",
     "name": "stdout",
     "text": [
      "2\n",
      "3\n",
      "5\n",
      "7\n",
      "11\n",
      "13\n"
     ]
    }
   ],
   "metadata": {}
  }
 ],
 "metadata": {
  "orig_nbformat": 4,
  "language_info": {
   "name": "python",
   "version": "3.8.8",
   "mimetype": "text/x-python",
   "codemirror_mode": {
    "name": "ipython",
    "version": 3
   },
   "pygments_lexer": "ipython3",
   "nbconvert_exporter": "python",
   "file_extension": ".py"
  },
  "kernelspec": {
   "name": "python3",
   "display_name": "Python 3.8.8 64-bit ('base': conda)"
  },
  "interpreter": {
   "hash": "2b2ef0ced6158af2e394324a057accd68681802aee33865d5dd32934d26225d9"
  }
 },
 "nbformat": 4,
 "nbformat_minor": 2
}