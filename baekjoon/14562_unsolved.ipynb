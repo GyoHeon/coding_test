{
 "cells": [
  {
   "cell_type": "code",
   "execution_count": 3,
   "source": [
    "c = int(input())\n",
    "array=[]\n",
    "for _ in range(c):\n",
    "    array.append(list(map(int, input().split())))"
   ],
   "outputs": [],
   "metadata": {}
  },
  {
   "cell_type": "code",
   "execution_count": 4,
   "source": [
    "array"
   ],
   "outputs": [
    {
     "output_type": "execute_result",
     "data": {
      "text/plain": [
       "[[10, 20], [2, 7], [15, 62]]"
      ]
     },
     "metadata": {},
     "execution_count": 4
    }
   ],
   "metadata": {}
  },
  {
   "cell_type": "code",
   "execution_count": null,
   "source": [
    "def score(a, b):\n",
    "    count = 0\n",
    "    s = [a]\n",
    "    t = [b]\n",
    "    if a == b:\n",
    "        return count\n",
    "    elif a < (b+3)//2:\n",
    "        return b-a\n",
    "    while a != b:\n",
    "        me = s.pop()\n",
    "        enemy = t.pop()\n",
    "        s.append(me+1, me*2)\n",
    "        t.append(enemy, enemy+3)"
   ],
   "outputs": [],
   "metadata": {}
  }
 ],
 "metadata": {
  "orig_nbformat": 4,
  "language_info": {
   "name": "python",
   "version": "3.8.8",
   "mimetype": "text/x-python",
   "codemirror_mode": {
    "name": "ipython",
    "version": 3
   },
   "pygments_lexer": "ipython3",
   "nbconvert_exporter": "python",
   "file_extension": ".py"
  },
  "kernelspec": {
   "name": "python3",
   "display_name": "Python 3.8.8 64-bit ('base': conda)"
  },
  "interpreter": {
   "hash": "2b2ef0ced6158af2e394324a057accd68681802aee33865d5dd32934d26225d9"
  }
 },
 "nbformat": 4,
 "nbformat_minor": 2
}