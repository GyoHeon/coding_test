{
 "cells": [
  {
   "cell_type": "code",
   "execution_count": 71,
   "source": [
    "n = int(input())\n",
    "# list 로 저장\n",
    "array = []\n",
    "\n",
    "for i in range(n):\n",
    "    array.append(input())\n",
    "\n",
    "# length 를 키로 정렬 후 단어만으로 다시 정렬\n",
    "array = sorted(array, key=lambda x:(len(x),x))\n",
    "\n",
    "for i in array:\n",
    "    print(i)"
   ],
   "outputs": [
    {
     "output_type": "stream",
     "name": "stdout",
     "text": [
      "c\n",
      "bbbb\n",
      "aaaaaaaaaaaaaa\n"
     ]
    }
   ],
   "metadata": {}
  },
  {
   "cell_type": "code",
   "execution_count": null,
   "source": [],
   "outputs": [],
   "metadata": {}
  }
 ],
 "metadata": {
  "orig_nbformat": 4,
  "language_info": {
   "name": "python",
   "version": "3.8.8",
   "mimetype": "text/x-python",
   "codemirror_mode": {
    "name": "ipython",
    "version": 3
   },
   "pygments_lexer": "ipython3",
   "nbconvert_exporter": "python",
   "file_extension": ".py"
  },
  "kernelspec": {
   "name": "python3",
   "display_name": "Python 3.8.8 64-bit ('base': conda)"
  },
  "interpreter": {
   "hash": "2b2ef0ced6158af2e394324a057accd68681802aee33865d5dd32934d26225d9"
  }
 },
 "nbformat": 4,
 "nbformat_minor": 2
}