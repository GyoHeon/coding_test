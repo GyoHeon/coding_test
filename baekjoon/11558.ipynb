{
 "cells": [
  {
   "cell_type": "code",
   "execution_count": 7,
   "source": [
    "import sys\n",
    "\n",
    "n = int(input())\n",
    "\n",
    "def count(array, node):\n",
    "    end = array[node]\n",
    "    count = 1\n",
    "    while True:\n",
    "        # N번에 처음 결합한 경우\n",
    "        if end == len(array)-1:\n",
    "            return count\n",
    "        # 연결 안되어있는 경우\n",
    "        elif count > len(array)-1:\n",
    "            return 0\n",
    "        # 찾는중\n",
    "        else:\n",
    "            end = array[end]\n",
    "            count += 1\n",
    "\n",
    "# graph make\n",
    "for i in range(n):\n",
    "    array = [0]\n",
    "    people = int(input())\n",
    "    for j in range(people):\n",
    "        array.append(int(input()))\n",
    "    print(count(array, 1))"
   ],
   "outputs": [
    {
     "output_type": "stream",
     "name": "stdout",
     "text": [
      "6\n",
      "1\n"
     ]
    }
   ],
   "metadata": {}
  },
  {
   "cell_type": "code",
   "execution_count": 2,
   "source": [
    "def dfs(node):\n",
    "    for n in graph[node]:\n",
    "        if check[n] == 0:\n",
    "            check[n] = check[node]+1\n",
    "            dfs(n)\n",
    "            \n",
    "n = int(input())\n",
    "\n",
    "for _ in range(n):\n",
    "    N = int(input())\n",
    "    graph = [[] for _ in range(N+1)]\n",
    "    for i in range(1, N+1):\n",
    "        v = int(input())\n",
    "        graph[i].append(v)\n",
    "    check = [0]*(N+1)\n",
    "    dfs(1)\n",
    "    print(check[N] if check[N] > 0 else 0)"
   ],
   "outputs": [
    {
     "output_type": "stream",
     "name": "stdout",
     "text": [
      "6\n",
      "1\n"
     ]
    }
   ],
   "metadata": {}
  }
 ],
 "metadata": {
  "orig_nbformat": 4,
  "language_info": {
   "name": "python",
   "version": "3.8.8",
   "mimetype": "text/x-python",
   "codemirror_mode": {
    "name": "ipython",
    "version": 3
   },
   "pygments_lexer": "ipython3",
   "nbconvert_exporter": "python",
   "file_extension": ".py"
  },
  "kernelspec": {
   "name": "python3",
   "display_name": "Python 3.8.8 64-bit ('base': conda)"
  },
  "interpreter": {
   "hash": "2b2ef0ced6158af2e394324a057accd68681802aee33865d5dd32934d26225d9"
  }
 },
 "nbformat": 4,
 "nbformat_minor": 2
}