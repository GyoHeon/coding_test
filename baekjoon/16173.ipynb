{
 "cells": [
  {
   "cell_type": "code",
   "execution_count": 135,
   "source": [
    "n = int(input())\n",
    "li=[]\n",
    "array = [[i+1] for i in range(n**2)]\n",
    "for i in range(n):\n",
    "    li.extend(list(map(int, input().split())))"
   ],
   "outputs": [],
   "metadata": {}
  },
  {
   "cell_type": "code",
   "execution_count": 137,
   "source": [
    "for i in range(n**2):\n",
    "    #x 축\n",
    "    if i%n+li[i] < n:\n",
    "        array[i].append(i+1+li[i])\n",
    "    # y 축\n",
    "    if i//n+li[i] < n:\n",
    "        array[i].append(i+1+li[i]*n)\n",
    "\n",
    "def dfs(graph, start_node):\n",
    "    visited, need_visit = [], []\n",
    "    need_visit.append(start_node)\n",
    "    while need_visit:\n",
    "        node = need_visit.pop()-1\n",
    "        if node not in visited:\n",
    "            visited.append(node)\n",
    "            need_visit.extend(graph[node])\n",
    "\n",
    "    return visited\n",
    "\n",
    "if n**2-1 in dfs(array, 1):\n",
    "    print(\"HaruHaru\")\n",
    "else:\n",
    "    print(\"Hing\")"
   ],
   "outputs": [
    {
     "output_type": "stream",
     "name": "stdout",
     "text": [
      "HaruHaru\n"
     ]
    }
   ],
   "metadata": {}
  },
  {
   "cell_type": "code",
   "execution_count": null,
   "source": [],
   "outputs": [],
   "metadata": {}
  }
 ],
 "metadata": {
  "orig_nbformat": 4,
  "language_info": {
   "name": "python",
   "version": "3.8.8",
   "mimetype": "text/x-python",
   "codemirror_mode": {
    "name": "ipython",
    "version": 3
   },
   "pygments_lexer": "ipython3",
   "nbconvert_exporter": "python",
   "file_extension": ".py"
  },
  "kernelspec": {
   "name": "python3",
   "display_name": "Python 3.8.8 64-bit ('base': conda)"
  },
  "interpreter": {
   "hash": "2b2ef0ced6158af2e394324a057accd68681802aee33865d5dd32934d26225d9"
  }
 },
 "nbformat": 4,
 "nbformat_minor": 2
}