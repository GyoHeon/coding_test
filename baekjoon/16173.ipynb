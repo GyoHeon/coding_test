{
 "cells": [
  {
   "cell_type": "code",
   "execution_count": 4,
   "source": [
    "n = int(input())\n",
    "li=[]\n",
    "\n",
    "'''\n",
    "그래프 구조를 포험한 리스트를 만듦.\n",
    "ex)0,0에서 갈 수 있는 모든 좌표를 array에 추가함.\n",
    "'''\n",
    "array = [[i+1] for i in range(n**2)]\n",
    "for i in range(n):\n",
    "    # N x N 좌표에 주어지는 값들\n",
    "    li.extend(list(map(int, input().split())))\n",
    "for i in range(n**2):\n",
    "    #x 축\n",
    "    if i%n+li[i] < n:\n",
    "        array[i].append(i+1+li[i])\n",
    "    # y 축\n",
    "    if i//n+li[i] < n:\n",
    "        array[i].append(i+1+li[i]*n)\n",
    "\n",
    "# 그냥 dfs 함수\n",
    "def dfs(graph, start_node):\n",
    "    visited, need_visit = [], []\n",
    "    need_visit.append(start_node)\n",
    "    while need_visit:\n",
    "        node = need_visit.pop()-1\n",
    "        if node not in visited:\n",
    "            visited.append(node)\n",
    "            need_visit.extend(graph[node])\n",
    "    return visited\n",
    "\n",
    "# dfs 결과 오른쪽 밑에 도달가능하면 성공\n",
    "if n**2-1 in dfs(array, 1):\n",
    "    print(\"HaruHaru\")\n",
    "else:\n",
    "    print(\"Hing\")"
   ],
   "outputs": [
    {
     "output_type": "stream",
     "name": "stdout",
     "text": [
      "HaruHaru\n"
     ]
    }
   ],
   "metadata": {}
  },
  {
   "cell_type": "code",
   "execution_count": 8,
   "source": [
    "for i in array:\n",
    "    print(i)"
   ],
   "outputs": [
    {
     "output_type": "stream",
     "name": "stdout",
     "text": [
      "[1, 2, 4]\n",
      "[2, 3, 5]\n",
      "[3]\n",
      "[4, 5, 7]\n",
      "[5]\n",
      "[6, 9]\n",
      "[7, 9]\n",
      "[8]\n",
      "[9, 8, 6]\n"
     ]
    }
   ],
   "metadata": {}
  },
  {
   "cell_type": "code",
   "execution_count": 10,
   "source": [
    "n = int(input())\n",
    "\n",
    "board = []\n",
    "\n",
    "for _ in range(n):\n",
    "    board.append(list(map(int, input().split())))\n",
    "\n",
    "visit = [[0] * n for _ in range(n)]\n",
    "\n",
    "queue = [[0, 0]]\n",
    "\n",
    "dx = [1, 0]\n",
    "dy = [0, 1]\n",
    "\n",
    "while queue:\n",
    "    x, y = queue[0][0], queue[0][1]\n",
    "    del queue[0]\n",
    "\n",
    "    if board[x][y]==-1:\n",
    "        print(\"HaruHaru\")\n",
    "        exit(0)\n",
    "\n",
    "    jump = board[x][y]\n",
    "\n",
    "    for i in range(2):\n",
    "        nx = x + dx[i] * jump\n",
    "        ny = y + dy[i] * jump\n",
    "\n",
    "        if 0<=nx<n and 0<=ny<n and visit[nx][ny]==0:\n",
    "            visit[nx][ny] = 1\n",
    "            queue.append([nx, ny])\n",
    "\n",
    "print(\"Hing\")"
   ],
   "outputs": [
    {
     "output_type": "stream",
     "name": "stdout",
     "text": [
      "HaruHaru\n",
      "Hing\n"
     ]
    }
   ],
   "metadata": {}
  }
 ],
 "metadata": {
  "orig_nbformat": 4,
  "language_info": {
   "name": "python",
   "version": "3.8.8",
   "mimetype": "text/x-python",
   "codemirror_mode": {
    "name": "ipython",
    "version": 3
   },
   "pygments_lexer": "ipython3",
   "nbconvert_exporter": "python",
   "file_extension": ".py"
  },
  "kernelspec": {
   "name": "python3",
   "display_name": "Python 3.8.8 64-bit ('base': conda)"
  },
  "interpreter": {
   "hash": "2b2ef0ced6158af2e394324a057accd68681802aee33865d5dd32934d26225d9"
  }
 },
 "nbformat": 4,
 "nbformat_minor": 2
}