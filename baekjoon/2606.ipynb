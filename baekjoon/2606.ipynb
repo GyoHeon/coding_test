{
 "cells": [
  {
   "cell_type": "code",
   "execution_count": null,
   "source": [
    "a = int(input())\n",
    "stat = [1] + [0 for i in range(a-1)]\n",
    "b = int(input())\n",
    "li = []\n",
    "for i in range(b):\n",
    "    inli = list(map(int, input().split()))\n",
    "    li.append(inli)\n",
    "sum1 = 1\n",
    "sum2 = 0\n",
    "while sum1-sum2 != 0:\n",
    "    sum1 = sum2\n",
    "    for j in li:\n",
    "        if (stat[j[0]-1] + stat[j[1]-1]) == 1:\n",
    "            stat[j[0]-1], stat[j[1]-1] = 1, 1\n",
    "    sum2 = sum(stat)\n",
    "print(sum2-1)"
   ],
   "outputs": [],
   "metadata": {}
  }
 ],
 "metadata": {
  "orig_nbformat": 4,
  "language_info": {
   "name": "python",
   "version": "3.8.8"
  },
  "kernelspec": {
   "name": "python3",
   "display_name": "Python 3.8.8 64-bit ('base': conda)"
  },
  "interpreter": {
   "hash": "2b2ef0ced6158af2e394324a057accd68681802aee33865d5dd32934d26225d9"
  }
 },
 "nbformat": 4,
 "nbformat_minor": 2
}