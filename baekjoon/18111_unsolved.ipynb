{
 "cells": [
  {
   "cell_type": "code",
   "execution_count": null,
   "source": [
    "import sys\n",
    "input = sys.stdin.readline\n",
    "\n",
    "n, m, b = map(int, input().split())\n",
    "array = []\n",
    "for _ in range(n):\n",
    "    array.extend(map(int, input().split()))\n"
   ],
   "outputs": [],
   "metadata": {}
  },
  {
   "cell_type": "code",
   "execution_count": 23,
   "source": [
    "n, m, b = 3, 4, 0\n",
    "array = [64,64,64,64,64,64,64,64,64,64,64,63]"
   ],
   "outputs": [],
   "metadata": {}
  },
  {
   "cell_type": "code",
   "execution_count": 25,
   "source": [
    "mi = min(array)\n",
    "ma = max(array)\n",
    "time = 500*500*512\n",
    "for i in range(mi, ma+1):\n",
    "    s = 0\n",
    "    block = b\n",
    "    li1 = [j-i for j in array]\n",
    "    \n",
    "\n",
    "print(time, index)"
   ],
   "outputs": [
    {
     "output_type": "stream",
     "name": "stdout",
     "text": [
      "22 63\n"
     ]
    }
   ],
   "metadata": {}
  },
  {
   "cell_type": "code",
   "execution_count": null,
   "source": [
    "mi = min(array)\n",
    "ma = max(array)\n",
    "time = 500*500*512\n",
    "for i in range(mi, ma+1):\n",
    "    s = 0\n",
    "    block = b\n",
    "    for j in array:\n",
    "        if j < i:\n",
    "            s += i-j\n",
    "            block -= i-j\n",
    "        else:\n",
    "            s += (j-i)*2\n",
    "            block += j-i\n",
    "    if block >= 0:\n",
    "        if time >= s:\n",
    "            time = s\n",
    "            index = i\n",
    "\n",
    "print(time, index)"
   ],
   "outputs": [
    {
     "output_type": "stream",
     "name": "stdout",
     "text": [
      "22 63\n"
     ]
    }
   ],
   "metadata": {}
  },
  {
   "cell_type": "code",
   "execution_count": 32,
   "source": [
    "li1 = [1,1,1]\n",
    "li2 = [(i-2) for i in li1]\n",
    "li2"
   ],
   "outputs": [
    {
     "output_type": "execute_result",
     "data": {
      "text/plain": [
       "[-1, -1, -1]"
      ]
     },
     "metadata": {},
     "execution_count": 32
    }
   ],
   "metadata": {}
  },
  {
   "cell_type": "code",
   "execution_count": 36,
   "source": [
    "64000000/250000"
   ],
   "outputs": [
    {
     "output_type": "execute_result",
     "data": {
      "text/plain": [
       "256.0"
      ]
     },
     "metadata": {},
     "execution_count": 36
    }
   ],
   "metadata": {}
  },
  {
   "cell_type": "code",
   "execution_count": null,
   "source": [],
   "outputs": [],
   "metadata": {}
  }
 ],
 "metadata": {
  "orig_nbformat": 4,
  "language_info": {
   "name": "python",
   "version": "3.8.8",
   "mimetype": "text/x-python",
   "codemirror_mode": {
    "name": "ipython",
    "version": 3
   },
   "pygments_lexer": "ipython3",
   "nbconvert_exporter": "python",
   "file_extension": ".py"
  },
  "kernelspec": {
   "name": "python3",
   "display_name": "Python 3.8.8 64-bit ('base': conda)"
  },
  "interpreter": {
   "hash": "2b2ef0ced6158af2e394324a057accd68681802aee33865d5dd32934d26225d9"
  }
 },
 "nbformat": 4,
 "nbformat_minor": 2
}