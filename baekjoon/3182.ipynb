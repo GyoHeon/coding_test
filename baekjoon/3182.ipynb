{
 "cells": [
  {
   "cell_type": "code",
   "execution_count": 32,
   "source": [
    "import sys\n",
    "input = sys.stdin.readline\n",
    "\n",
    "# dfs는 완전 탐색, bfs는 최소 탐색에서 주로 쓰인다.\n",
    "def dfs(dic, start_node):\n",
    "    visited, need_visit = [], []\n",
    "    need_visit.append(start_node)\n",
    "\n",
    "    while need_visit:\n",
    "        node = need_visit.pop()\n",
    "        if node not in visited:\n",
    "            visited.append(node)\n",
    "            need_visit.append(dic[node])\n",
    "\n",
    "    return len(visited)\n",
    "\n",
    "n = int(input())\n",
    "dic = dict()\n",
    "for i in range(n):\n",
    "    dic[i+1] = int(input())\n",
    "\n",
    "count = 0\n",
    "for i in dic.keys():\n",
    "    length = dfs(dic, i)\n",
    "    if count < length:\n",
    "        count = length\n",
    "        number = i\n",
    "print(number)"
   ],
   "outputs": [],
   "metadata": {}
  },
  {
   "cell_type": "code",
   "execution_count": null,
   "source": [],
   "outputs": [],
   "metadata": {}
  }
 ],
 "metadata": {
  "orig_nbformat": 4,
  "language_info": {
   "name": "python",
   "version": "3.8.8",
   "mimetype": "text/x-python",
   "codemirror_mode": {
    "name": "ipython",
    "version": 3
   },
   "pygments_lexer": "ipython3",
   "nbconvert_exporter": "python",
   "file_extension": ".py"
  },
  "kernelspec": {
   "name": "python3",
   "display_name": "Python 3.8.8 64-bit ('base': conda)"
  },
  "interpreter": {
   "hash": "2b2ef0ced6158af2e394324a057accd68681802aee33865d5dd32934d26225d9"
  }
 },
 "nbformat": 4,
 "nbformat_minor": 2
}