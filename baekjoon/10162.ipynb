{
 "cells": [
  {
   "cell_type": "code",
   "execution_count": 26,
   "id": "d5244d3c",
   "metadata": {},
   "outputs": [
    {
     "name": "stdout",
     "output_type": "stream",
     "text": [
      "0 1 4 \n"
     ]
    }
   ],
   "source": [
    "t = int(input())\n",
    "\n",
    "li = [300, 60, 10]\n",
    "s = ''\n",
    "for i in li:\n",
    "    s += str(t // i)\n",
    "    s += ' '\n",
    "    t = t%i\n",
    "if t == 0:\n",
    "    print(s)\n",
    "else:\n",
    "    print(-1)"
   ]
  }
 ],
 "metadata": {
  "kernelspec": {
   "display_name": "Python 3",
   "language": "python",
   "name": "python3"
  },
  "language_info": {
   "codemirror_mode": {
    "name": "ipython",
    "version": 3
   },
   "file_extension": ".py",
   "mimetype": "text/x-python",
   "name": "python",
   "nbconvert_exporter": "python",
   "pygments_lexer": "ipython3",
   "version": "3.8.8"
  }
 },
 "nbformat": 4,
 "nbformat_minor": 5
}
