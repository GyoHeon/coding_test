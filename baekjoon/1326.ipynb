{
 "cells": [
  {
   "cell_type": "code",
   "execution_count": 13,
   "source": [
    "import sys\n",
    "input = sys.stdin.readline\n",
    "\n",
    "n = int(input())\n",
    "array = list(map(int,input().split()))\n",
    "start, end = map(int, input().split())\n",
    "start, end = start-1, end -1\n",
    "graph = [[]for _ in range(n)]\n",
    "\n",
    "for i in range(n):\n",
    "    for j in range(-n//array[i], n//array[i]+1):\n",
    "        if 0 <= i+j*array[i] < n:\n",
    "            graph[i].append(i+j*array[i])\n",
    "\n",
    "nodes = set(graph[start])\n",
    "count = 0\n",
    "while True:\n",
    "    ex_nodes = nodes.copy()\n",
    "    count += 1\n",
    "    if end in nodes:\n",
    "        print(count)\n",
    "        exit(0)\n",
    "    for j in nodes:\n",
    "        nodes = nodes.union(graph[j])\n",
    "    if ex_nodes == nodes: break\n",
    "print(-1)"
   ],
   "outputs": [],
   "metadata": {}
  },
  {
   "cell_type": "code",
   "execution_count": null,
   "source": [
    "from collections import deque\n",
    "\n",
    "def bfs(a, b, bridge, N):\n",
    "    q = deque()\n",
    "    q.append(a-1)\n",
    "    check = [-1]*N\n",
    "    check[a-1] = 0\n",
    "    while q:\n",
    "        node = q.popleft()\n",
    "        for n in range(node, N, bridge[node]):\n",
    "            if check[n] == -1:\n",
    "                q.append(n)\n",
    "                check[n] = check[node] + 1\n",
    "                if n == b-1:\n",
    "                    return check[n]\n",
    "        for n in range(node, -1, -bridge[node]):\n",
    "            if check[n] == -1:\n",
    "                q.append(n)\n",
    "                check[n] = check[node] + 1\n",
    "                if n == b-1:\n",
    "                    return check[n]\n",
    "    return -1\n",
    "\n",
    "N = int(input())\n",
    "bridge = list(map(int, input().split()))\n",
    "a, b = map(int, input().split())\n",
    "print(bfs(a, b, bridge, N))"
   ],
   "outputs": [],
   "metadata": {}
  }
 ],
 "metadata": {
  "orig_nbformat": 4,
  "language_info": {
   "name": "python",
   "version": "3.8.8",
   "mimetype": "text/x-python",
   "codemirror_mode": {
    "name": "ipython",
    "version": 3
   },
   "pygments_lexer": "ipython3",
   "nbconvert_exporter": "python",
   "file_extension": ".py"
  },
  "kernelspec": {
   "name": "python3",
   "display_name": "Python 3.8.8 64-bit ('base': conda)"
  },
  "interpreter": {
   "hash": "2b2ef0ced6158af2e394324a057accd68681802aee33865d5dd32934d26225d9"
  }
 },
 "nbformat": 4,
 "nbformat_minor": 2
}