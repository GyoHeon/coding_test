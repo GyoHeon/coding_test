{
 "cells": [
  {
   "cell_type": "code",
   "execution_count": 77,
   "source": [
    "from collections import deque\n",
    "\n",
    "n, l, s = map(int,input().split())\n",
    "\n",
    "array = [[] for i in range(n+1)]\n",
    "for _ in range(l):\n",
    "    start, end = map(int, input().split())\n",
    "    array[start].append(end)\n",
    "    array[end].append(start)"
   ],
   "outputs": [],
   "metadata": {}
  },
  {
   "cell_type": "code",
   "execution_count": null,
   "source": [
    "#dfs\n",
    "for i in range(n):\n",
    "    array[i+1].sort(reverse=True)\n",
    "array\n",
    "\n",
    "visited, need_visit = deque(), deque()\n",
    "need_visit.append(s)\n",
    "\n",
    "while need_visit:\n",
    "    node = need_visit.pop()\n",
    "    if node not in visited:\n",
    "        visited.append(node)\n",
    "        need_visit.extend(array[node])\n",
    "\n",
    "print(*visited)"
   ],
   "outputs": [
    {
     "output_type": "stream",
     "name": "stdout",
     "text": [
      "3 1 2 5 4\n"
     ]
    }
   ],
   "metadata": {}
  },
  {
   "cell_type": "code",
   "execution_count": 78,
   "source": [
    "#bfs\n",
    "for i in range(n):\n",
    "    array[i+1].sort()\n",
    "array\n",
    "\n",
    "visited, need_visit = deque(), deque()\n",
    "need_visit.append(s)\n",
    "\n",
    "while need_visit:\n",
    "    node = need_visit.popleft()\n",
    "    if node not in visited:\n",
    "        visited.append(node)\n",
    "        need_visit.extend(array[node])\n",
    "\n",
    "print(*visited)"
   ],
   "outputs": [
    {
     "output_type": "stream",
     "name": "stdout",
     "text": [
      "3 1 4 2 5\n"
     ]
    }
   ],
   "metadata": {}
  },
  {
   "cell_type": "code",
   "execution_count": null,
   "source": [],
   "outputs": [],
   "metadata": {}
  }
 ],
 "metadata": {
  "orig_nbformat": 4,
  "language_info": {
   "name": "python",
   "version": "3.8.8",
   "mimetype": "text/x-python",
   "codemirror_mode": {
    "name": "ipython",
    "version": 3
   },
   "pygments_lexer": "ipython3",
   "nbconvert_exporter": "python",
   "file_extension": ".py"
  },
  "kernelspec": {
   "name": "python3",
   "display_name": "Python 3.8.8 64-bit ('base': conda)"
  },
  "interpreter": {
   "hash": "2b2ef0ced6158af2e394324a057accd68681802aee33865d5dd32934d26225d9"
  }
 },
 "nbformat": 4,
 "nbformat_minor": 2
}