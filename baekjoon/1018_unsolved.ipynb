{
 "cells": [
  {
   "cell_type": "code",
   "execution_count": 45,
   "source": [
    "n, m = map(int, input().split())"
   ],
   "outputs": [],
   "metadata": {}
  },
  {
   "cell_type": "code",
   "execution_count": 50,
   "source": [
    "array = []\n",
    "array_1 = []\n",
    "array_2 = []\n",
    "for i in range(n):\n",
    "    array.append(input())\n",
    "    li_1 = []\n",
    "    li_2 = []\n",
    "    for j in range(m):\n",
    "        li_1.append('B' if (i+j)%2 == 0 else 'W')\n",
    "        li_2.append('W' if (i+j)%2 == 0 else 'B')\n",
    "    array_1.append(li_1)\n",
    "    array_2.append(li_2)"
   ],
   "outputs": [],
   "metadata": {}
  },
  {
   "cell_type": "code",
   "execution_count": 52,
   "source": [
    "array_1, array_2"
   ],
   "outputs": [
    {
     "output_type": "execute_result",
     "data": {
      "text/plain": [
       "([['B', 'W', 'B', 'W', 'B'],\n",
       "  ['W', 'B', 'W', 'B', 'W'],\n",
       "  ['B', 'W', 'B', 'W', 'B'],\n",
       "  ['W', 'B', 'W', 'B', 'W'],\n",
       "  ['B', 'W', 'B', 'W', 'B']],\n",
       " [['W', 'B', 'W', 'B', 'W'],\n",
       "  ['B', 'W', 'B', 'W', 'B'],\n",
       "  ['W', 'B', 'W', 'B', 'W'],\n",
       "  ['B', 'W', 'B', 'W', 'B'],\n",
       "  ['W', 'B', 'W', 'B', 'W']])"
      ]
     },
     "metadata": {},
     "execution_count": 52
    }
   ],
   "metadata": {}
  }
 ],
 "metadata": {
  "orig_nbformat": 4,
  "language_info": {
   "name": "python",
   "version": "3.8.8",
   "mimetype": "text/x-python",
   "codemirror_mode": {
    "name": "ipython",
    "version": 3
   },
   "pygments_lexer": "ipython3",
   "nbconvert_exporter": "python",
   "file_extension": ".py"
  },
  "kernelspec": {
   "name": "python3",
   "display_name": "Python 3.8.8 64-bit ('base': conda)"
  },
  "interpreter": {
   "hash": "2b2ef0ced6158af2e394324a057accd68681802aee33865d5dd32934d26225d9"
  }
 },
 "nbformat": 4,
 "nbformat_minor": 2
}