{
 "cells": [
  {
   "cell_type": "code",
   "execution_count": 122,
   "metadata": {},
   "outputs": [],
   "source": [
    "n, m = map(int, input().split())\n",
    "array = [{}] + [{i+1} for i in range(n)]\n",
    "\n",
    "def dfs(graph, node):\n",
    "  visited, need_visit = [], []\n",
    "  need_visit.append(node)\n",
    "  while need_visit:\n",
    "    node = need_visit.pop()\n",
    "    if node not in visited:\n",
    "      visited.append(node)\n",
    "      need_visit.extend(graph[node])\n",
    "\n",
    "  return visited\n",
    "\n",
    "for _ in range(m):\n",
    "  first, second = map(int, input().split())\n",
    "  array[first].add(second)\n",
    "  array[second].add(first)\n",
    "\n",
    "count = 0\n",
    "for i in range(1, n+1):\n",
    "  if array[i] == []:\n",
    "    pass\n",
    "  else:\n",
    "    count += 1\n",
    "    for j in dfs(array, i):\n",
    "      array[j] = []\n",
    "\n",
    "print(count)"
   ]
  }
 ],
 "metadata": {
  "interpreter": {
   "hash": "b39c6c809ec76583e575b4ba1085f2dcb86a7029d5c8cf5479e11d3625af96c6"
  },
  "kernelspec": {
   "display_name": "Python 3.8.8 64-bit ('base': conda)",
   "name": "python3"
  },
  "language_info": {
   "codemirror_mode": {
    "name": "ipython",
    "version": 3
   },
   "file_extension": ".py",
   "mimetype": "text/x-python",
   "name": "python",
   "nbconvert_exporter": "python",
   "pygments_lexer": "ipython3",
   "version": "3.8.8"
  },
  "orig_nbformat": 4
 },
 "nbformat": 4,
 "nbformat_minor": 2
}
