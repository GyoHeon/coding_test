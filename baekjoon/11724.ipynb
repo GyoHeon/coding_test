{
 "cells": [
  {
   "cell_type": "code",
   "execution_count": 16,
   "metadata": {},
   "outputs": [],
   "source": [
    "n, m = map(int, input().split())\n",
    "array = [{}] + [{i+1} for i in range(n)]"
   ]
  },
  {
   "cell_type": "code",
   "execution_count": 18,
   "metadata": {},
   "outputs": [],
   "source": [
    "for _ in range(m):\n",
    "  first, second = map(int, input().split())\n",
    "  array[first].add(second)\n",
    "  array[second].add(first)"
   ]
  },
  {
   "cell_type": "code",
   "execution_count": 40,
   "metadata": {},
   "outputs": [],
   "source": [
    "def dfs(graph, node):\n",
    "  visited, need_visit = [], []\n",
    "  need_visit.append(node)\n",
    "  while need_visit:\n",
    "    node = need_visit.pop()\n",
    "    if node not in visited:\n",
    "      visited.append(node)\n",
    "      need_visit.extend(graph[node])\n",
    "\n",
    "  return visited"
   ]
  },
  {
   "cell_type": "code",
   "execution_count": 65,
   "metadata": {},
   "outputs": [],
   "source": [
    "cc = []\n",
    "for i in range(1, n+1):\n",
    "  li = sorted(dfs(array, i))\n",
    "  if li in cc:\n",
    "    pass\n",
    "  else:\n",
    "    cc.append(li)"
   ]
  },
  {
   "cell_type": "code",
   "execution_count": null,
   "metadata": {},
   "outputs": [],
   "source": [
    "cc = []\n",
    "for i in range(1, n+1):\n",
    "  for j in dfs(array, i):\n",
    "  if li in cc:\n",
    "    pass\n",
    "  else:\n",
    "    cc.append(li)"
   ]
  },
  {
   "cell_type": "code",
   "execution_count": 67,
   "metadata": {},
   "outputs": [
    {
     "name": "stdout",
     "output_type": "stream",
     "text": [
      "2\n"
     ]
    }
   ],
   "source": [
    "print(len(cc))"
   ]
  }
 ],
 "metadata": {
  "interpreter": {
   "hash": "b39c6c809ec76583e575b4ba1085f2dcb86a7029d5c8cf5479e11d3625af96c6"
  },
  "kernelspec": {
   "display_name": "Python 3.8.8 64-bit ('base': conda)",
   "name": "python3"
  },
  "language_info": {
   "codemirror_mode": {
    "name": "ipython",
    "version": 3
   },
   "file_extension": ".py",
   "mimetype": "text/x-python",
   "name": "python",
   "nbconvert_exporter": "python",
   "pygments_lexer": "ipython3",
   "version": "3.8.8"
  },
  "orig_nbformat": 4
 },
 "nbformat": 4,
 "nbformat_minor": 2
}
