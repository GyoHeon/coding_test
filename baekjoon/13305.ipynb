{
 "cells": [
  {
   "cell_type": "code",
   "execution_count": 98,
   "source": [
    "n = int(input())\n",
    "length = tuple(map(int, input().split()))\n",
    "cost = list(map(int, input().split()))\n",
    "\n",
    "for i in range(len(cost)-1):\n",
    "    if cost[i] < cost[i+1]:\n",
    "        cost[i+1] = cost[i]\n",
    "\n",
    "sum = 0\n",
    "for i,j in zip(length, cost[:-1]):\n",
    "    sum += i*j\n",
    "print(sum)"
   ],
   "outputs": [
    {
     "output_type": "stream",
     "name": "stdout",
     "text": [
      "10\n"
     ]
    }
   ],
   "metadata": {}
  }
 ],
 "metadata": {
  "orig_nbformat": 4,
  "language_info": {
   "name": "python",
   "version": "3.8.8",
   "mimetype": "text/x-python",
   "codemirror_mode": {
    "name": "ipython",
    "version": 3
   },
   "pygments_lexer": "ipython3",
   "nbconvert_exporter": "python",
   "file_extension": ".py"
  },
  "kernelspec": {
   "name": "python3",
   "display_name": "Python 3.8.8 64-bit ('base': conda)"
  },
  "interpreter": {
   "hash": "2b2ef0ced6158af2e394324a057accd68681802aee33865d5dd32934d26225d9"
  }
 },
 "nbformat": 4,
 "nbformat_minor": 2
}