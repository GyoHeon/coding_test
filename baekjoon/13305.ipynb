{
 "cells": [
  {
   "cell_type": "code",
   "execution_count": 98,
   "source": [
    "# 도시 개수\n",
    "n = int(input())\n",
    "# 거리(튜플)-변화시킬 필요 없다 판단함\n",
    "length = tuple(map(int, input().split()))\n",
    "# 기름 가격\n",
    "cost = list(map(int, input().split()))\n",
    "\n",
    "# 만약 다음 정류소의 기름 가격이 지금 기름보다 비싸면 지금정류소에서 채울거임(==다음 정류소 가격이 지금 정류소와 같다고 하면 됌)\n",
    "for i in range(len(cost)-1):\n",
    "    if cost[i] < cost[i+1]:\n",
    "        cost[i+1] = cost[i]\n",
    "\n",
    "# 기름 가격 다 바꾸면 그냥 거리*가격 다 더하면 끝\n",
    "sum = 0\n",
    "for i,j in zip(length, cost[:-1]):\n",
    "    sum += i*j\n",
    "print(sum)"
   ],
   "outputs": [
    {
     "output_type": "stream",
     "name": "stdout",
     "text": [
      "10\n"
     ]
    }
   ],
   "metadata": {}
  }
 ],
 "metadata": {
  "orig_nbformat": 4,
  "language_info": {
   "name": "python",
   "version": "3.8.8",
   "mimetype": "text/x-python",
   "codemirror_mode": {
    "name": "ipython",
    "version": 3
   },
   "pygments_lexer": "ipython3",
   "nbconvert_exporter": "python",
   "file_extension": ".py"
  },
  "kernelspec": {
   "name": "python3",
   "display_name": "Python 3.8.8 64-bit ('base': conda)"
  },
  "interpreter": {
   "hash": "2b2ef0ced6158af2e394324a057accd68681802aee33865d5dd32934d26225d9"
  }
 },
 "nbformat": 4,
 "nbformat_minor": 2
}