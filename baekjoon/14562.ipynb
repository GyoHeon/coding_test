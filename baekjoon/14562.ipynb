{
 "cells": [
  {
   "cell_type": "code",
   "execution_count": 2,
   "source": [
    "'''\n",
    "가능한 경우의 수를 모두 만드는 array.\n",
    "값이 1개면 a, b의 경우 2가지를 반환하고\n",
    "값이 여러개면 가능한 a, b를 모두 반환한다.\n",
    "반환 과정중에 점수가 같아지면 True를 반환하고\n",
    "내 점수가 상대보다 높은 경우는 모두 생략한다.\n",
    "'''\n",
    "def score(array):\n",
    "    if type(array[0]) == int:\n",
    "        if array[0] == array[1]:\n",
    "            return True\n",
    "        elif array[0] > array[1]:\n",
    "            return None\n",
    "        return [[array[0]*2,array[1]+3],[array[0]+1, array[1]]]\n",
    "    else:\n",
    "        li = []\n",
    "        for i in array:\n",
    "            k = score(i)\n",
    "            if k == True:\n",
    "                li.append(k)\n",
    "                break\n",
    "            elif k == None:\n",
    "                pass\n",
    "            else:\n",
    "                li.extend(k)\n",
    "        return li\n",
    "\n",
    "c = int(input())\n",
    "array=[]\n",
    "for _ in range(c):\n",
    "    array.append(list(map(int, input().split())))\n",
    "\n",
    "for i in array:\n",
    "    count = 0\n",
    "    li = score(i)\n",
    "    while True:\n",
    "        if True in li:\n",
    "            break\n",
    "        else:\n",
    "            count += 1\n",
    "            li = score(li)\n",
    "    print(count)"
   ],
   "outputs": [],
   "metadata": {}
  }
 ],
 "metadata": {
  "orig_nbformat": 4,
  "language_info": {
   "name": "python",
   "version": "3.8.8",
   "mimetype": "text/x-python",
   "codemirror_mode": {
    "name": "ipython",
    "version": 3
   },
   "pygments_lexer": "ipython3",
   "nbconvert_exporter": "python",
   "file_extension": ".py"
  },
  "kernelspec": {
   "name": "python3",
   "display_name": "Python 3.8.8 64-bit ('base': conda)"
  },
  "interpreter": {
   "hash": "2b2ef0ced6158af2e394324a057accd68681802aee33865d5dd32934d26225d9"
  }
 },
 "nbformat": 4,
 "nbformat_minor": 2
}