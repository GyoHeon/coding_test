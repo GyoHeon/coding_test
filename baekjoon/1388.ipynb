{
 "cells": [
  {
   "cell_type": "code",
   "execution_count": 146,
   "source": [
    "n, m = map(int, input().split())\n",
    "\n",
    "# 가로 타일은 그대로 쓰고 세로 타일은 transpose해서 가로 타일처럼 생각\n",
    "horizontal = [[0]*m for _ in range(n)]\n",
    "vertical = [[1]*n for _ in range(m)]\n",
    "\n",
    "for i in range(n):\n",
    "    k = input()\n",
    "    for j in range(m):\n",
    "        if k[j] == '-':\n",
    "            horizontal[i][j] = 1\n",
    "            vertical[j][i] = 0\n",
    "\n",
    "# 그 층에 몇개의 나무판자가 필요한지\n",
    "def check(array):\n",
    "    array = [0] + array\n",
    "    count = 0\n",
    "    for i in range(len(array)-1):\n",
    "        if array[i] == 0 and array[i+1] == 1:\n",
    "            count += 1\n",
    "        else: pass\n",
    "    return count\n",
    "\n",
    "count = 0\n",
    "for i in horizontal:\n",
    "    count += check(i)\n",
    "for i in vertical:\n",
    "    count += check(i)\n",
    "\n",
    "print(count)"
   ],
   "outputs": [],
   "metadata": {}
  }
 ],
 "metadata": {
  "orig_nbformat": 4,
  "language_info": {
   "name": "python",
   "version": "3.8.8",
   "mimetype": "text/x-python",
   "codemirror_mode": {
    "name": "ipython",
    "version": 3
   },
   "pygments_lexer": "ipython3",
   "nbconvert_exporter": "python",
   "file_extension": ".py"
  },
  "kernelspec": {
   "name": "python3",
   "display_name": "Python 3.8.8 64-bit ('base': conda)"
  },
  "interpreter": {
   "hash": "2b2ef0ced6158af2e394324a057accd68681802aee33865d5dd32934d26225d9"
  }
 },
 "nbformat": 4,
 "nbformat_minor": 2
}