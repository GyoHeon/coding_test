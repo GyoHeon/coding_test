{
 "cells": [
  {
   "cell_type": "code",
   "execution_count": 1,
   "source": [
    "import sys\n",
    "\n",
    "# rope 갯수\n",
    "n = int(input())\n",
    "\n",
    "# 로프 무게 추가할 리스트\n",
    "li = []\n",
    "for i in range(n):\n",
    "    r = int(sys.stdin.readline().rstrip())\n",
    "    li.append(r)\n",
    "\n",
    "# 약한 로프부터 sort\n",
    "li.sort()\n",
    "\n",
    "# 가장 약한 무게를 선택했을 경우 최대 허용무게\n",
    "weight = li[0]*n\n",
    "\n",
    "# 약한 무게의 로프를 버리면서 허용무게가 증가하는지 검사\n",
    "for i, j in enumerate(li):\n",
    "    new_weight = (n-i)*j \n",
    "    weight = new_weight if new_weight>weight else weight\n",
    "    \n",
    "#출력\n",
    "print(weight)"
   ],
   "outputs": [
    {
     "output_type": "stream",
     "name": "stdout",
     "text": [
      "6\n"
     ]
    }
   ],
   "metadata": {}
  }
 ],
 "metadata": {
  "orig_nbformat": 4,
  "language_info": {
   "name": "python",
   "version": "3.8.8",
   "mimetype": "text/x-python",
   "codemirror_mode": {
    "name": "ipython",
    "version": 3
   },
   "pygments_lexer": "ipython3",
   "nbconvert_exporter": "python",
   "file_extension": ".py"
  },
  "kernelspec": {
   "name": "python3",
   "display_name": "Python 3.8.8 64-bit ('base': conda)"
  },
  "interpreter": {
   "hash": "2b2ef0ced6158af2e394324a057accd68681802aee33865d5dd32934d26225d9"
  }
 },
 "nbformat": 4,
 "nbformat_minor": 2
}